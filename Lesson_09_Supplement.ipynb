{
 "cells": [
  {
   "cell_type": "markdown",
   "id": "36722822-dd24-4a9d-ae0a-5f255418ab02",
   "metadata": {},
   "source": [
    "# Lesson 09 Supplement\n",
    "\n",
    "I realized I was a bit fuzzy on some of the details of the folder structure. Hopefully this lends some more clarity.\n",
    "\n",
    "Say the directory structure looks like this:\n",
    "\n",
    "```\n",
    "|-Workbook_09\n",
    "|  |-Workbook_09.ipynb\n",
    "|  |-my_package_project\n",
    "|  |  |-my_package\n",
    "|  |  |  |-module_1.py\n",
    "|  |  |  |-__init__.py\n",
    "|  |  |-setup.py\n",
    "|  |  |-tests\n",
    "|  |  |  |-test_module_1.py\n",
    "```\n",
    "\n",
    "Notice that the notebook I am running commands from, `Workbook_09.ipynb`, is in the \"top level\" directory and is beside my \"project\" directory, `my_package_project`. Within that, I have `my_package` (which contains all of my module, .py, files). Beside the `my_package` sub-directory is where I also have `setup.py` and `tests`.\n",
    "\n",
    "When I run the `pip` command from my notebook, I need to give it the path of the _project_ directory, like this:\n",
    "\n",
    "```python\n",
    "!pip install -e my_package_project/\n",
    "```\n",
    "\n",
    "This tells `pip` to look in the directory `my_package_project` for a `setup.py` file. When pip then reads the `setup.py`, it sees that the name of the package it needs to install is `my_package` and it then finds that sub-directory beside my `setup.py`. \n",
    "\n",
    "It then installs all of the files in `my_package` into my Python `site-packages` directory, somewhere else on the computer."
   ]
  },
  {
   "cell_type": "code",
   "execution_count": null,
   "id": "17297cca-5b76-4815-b2bc-8bb4da5d9e7b",
   "metadata": {},
   "outputs": [],
   "source": []
  }
 ],
 "metadata": {
  "kernelspec": {
   "display_name": "Python 3",
   "language": "python",
   "name": "python3"
  },
  "language_info": {
   "codemirror_mode": {
    "name": "ipython",
    "version": 3
   },
   "file_extension": ".py",
   "mimetype": "text/x-python",
   "name": "python",
   "nbconvert_exporter": "python",
   "pygments_lexer": "ipython3",
   "version": "3.8.8"
  }
 },
 "nbformat": 4,
 "nbformat_minor": 5
}
